{
 "cells": [
  {
   "cell_type": "code",
   "execution_count": 2,
   "metadata": {},
   "outputs": [],
   "source": [
    "from typing import Optional, Any, Literal\n",
    "import pandas as pd\n",
    "import seaborn as sb\n",
    "import numpy as np"
   ]
  },
  {
   "cell_type": "markdown",
   "metadata": {},
   "source": [
    "#Problema\n",
    "\n",
    "**Un sensor de temperatura ubicado en una caldera indutrial registró las siguientes temperaturas en diferentes momentos del proceso**"
   ]
  },
  {
   "cell_type": "code",
   "execution_count": 3,
   "metadata": {},
   "outputs": [],
   "source": [
    "f_t:list = [25,30,40,60]\n",
    "t:list = [0,5,10,20]"
   ]
  },
  {
   "cell_type": "code",
   "execution_count": 4,
   "metadata": {},
   "outputs": [
    {
     "data": {
      "text/html": [
       "<div>\n",
       "<style scoped>\n",
       "    .dataframe tbody tr th:only-of-type {\n",
       "        vertical-align: middle;\n",
       "    }\n",
       "\n",
       "    .dataframe tbody tr th {\n",
       "        vertical-align: top;\n",
       "    }\n",
       "\n",
       "    .dataframe thead th {\n",
       "        text-align: right;\n",
       "    }\n",
       "</style>\n",
       "<table border=\"1\" class=\"dataframe\">\n",
       "  <thead>\n",
       "    <tr style=\"text-align: right;\">\n",
       "      <th></th>\n",
       "      <th>Minutos (t)</th>\n",
       "      <th>Grados C f(t)</th>\n",
       "    </tr>\n",
       "  </thead>\n",
       "  <tbody>\n",
       "    <tr>\n",
       "      <th>0</th>\n",
       "      <td>0</td>\n",
       "      <td>25</td>\n",
       "    </tr>\n",
       "    <tr>\n",
       "      <th>1</th>\n",
       "      <td>5</td>\n",
       "      <td>30</td>\n",
       "    </tr>\n",
       "    <tr>\n",
       "      <th>2</th>\n",
       "      <td>10</td>\n",
       "      <td>40</td>\n",
       "    </tr>\n",
       "    <tr>\n",
       "      <th>3</th>\n",
       "      <td>20</td>\n",
       "      <td>60</td>\n",
       "    </tr>\n",
       "  </tbody>\n",
       "</table>\n",
       "</div>"
      ],
      "text/plain": [
       "   Minutos (t)  Grados C f(t)\n",
       "0            0             25\n",
       "1            5             30\n",
       "2           10             40\n",
       "3           20             60"
      ]
     },
     "execution_count": 4,
     "metadata": {},
     "output_type": "execute_result"
    }
   ],
   "source": [
    "pd.DataFrame({\"Minutos (t)\":t,\"Grados C f(t)\":f_t})"
   ]
  },
  {
   "cell_type": "markdown",
   "metadata": {},
   "source": [
    "# Obtener\n",
    "\n",
    "- **La temperatura aproximada en:**\n",
    "\n",
    "$t$ $=$ $15$ $minutos$\n",
    "\n",
    "- Calcular interpolación de Lagrange para evaluar en cualquier punto\n",
    "\n",
    "- Definir la función para poder evaluar en cualquier punto\n",
    "\n",
    "- La formula es la siguiente\n",
    "\n",
    "# **$$L_{n,k}(x) = \\prod_{\\substack{i=0\\\\ i \\neq k}}^n \\frac{x - x_i}{x_k - x_i}$$**"
   ]
  },
  {
   "cell_type": "markdown",
   "metadata": {},
   "source": [
    "- Por lo tanto resulta de la siguiente manera\n",
    "\n",
    "# **$$ P_3(x) = y_0L_{3,0} + y_1L_{3,1} + y_2L_{3,2} + y_3L_{3,3}$$**"
   ]
  },
  {
   "cell_type": "markdown",
   "metadata": {},
   "source": [
    "- Y los valores de L son los siguientes respecto a L(x)\n",
    "\n",
    "\n",
    "# $L_{3,0}(x) = \\frac{(x - x_1)(x - x_2)(x - x_3)}{(x_0 - x_1)(x_0 - x_3)(x_0 - x_3)}$\n",
    "\n",
    "# $L_{3,1}(x) = \\frac{(x - x_0)(x - x_2)(x - x_3)}{(x_1 - x_0)(x_1 - x_2)(x_1 - x_3)}$\n",
    "\n",
    "# $L_{3,2}(x) = \\frac{(x - x_0)(x - x_1)(x - x_3)}{(x_2 - x_0)(x_2 - x_1)(x_0 - x_3)}$\n",
    "\n",
    "# $L_{3,3}(x) = \\frac{(x - x_0)(x - x_1)(x - x_2)}{(x_2 - x_0)(x_2 - x_1)(x_0 - x_2)}$\n"
   ]
  },
  {
   "cell_type": "markdown",
   "metadata": {},
   "source": [
    "\n",
    "- Definimos un arreglo como salida de la función para poder graficar la función de los resultados obtenidos por $L(x)$, posteriormente sus productos con $y$"
   ]
  },
  {
   "cell_type": "code",
   "execution_count": 5,
   "metadata": {},
   "outputs": [],
   "source": [
    "def interpolación(valor_interpolar:float|int, *arrays) -> Optional[list[list[int|float],list[int|float],list[int|float]]]:\n",
    "    \n",
    "    #Definimos la cantidad de columnas que tiene f(t) y t en la grafica para saber su longitud#\n",
    "    rows_funcion:int = len(arrays[0])\n",
    "    rows_tvalues:int = len(arrays[1]) \n",
    "\n",
    "    #Se obtienen los valores de x para utilizarlos para calcular L(x)\n",
    "    valores_x:list[str|float] = arrays[1]\n",
    "\n",
    "    #Se realiza una lista para almacenar los valores de L(x)#\n",
    "    L_values:list[float|str] = []\n",
    "    valores_ft:list[float|int] = []\n",
    "    multiplicaciones_lval:list = [] \n",
    "\n",
    "    \n",
    "            \n",
    "        #Utilizamos realizar el productorio para obtener el valor de las L(x)#    \n",
    "    for k in range(rows_tvalues):\n",
    "        parte_superior = 1\n",
    "        parte_inferior = 1\n",
    "        for n in range(rows_funcion):\n",
    "            if n != k:\n",
    "                #print(n,k)\n",
    "                parte_superior *= (valor_interpolar - valores_x[n])\n",
    "                parte_inferior *= (valores_x[k] - valores_x[n])\n",
    "                #print(parte_superior, \"\\n\", parte_inferior)\n",
    "\n",
    "        #Se realiza la division del productorio y se añade a la lista\n",
    "        l:float|int  = parte_superior/parte_inferior \n",
    "        L_values.append(l); valores_ft.append(arrays[0][k])\n",
    "    \n",
    "    multiplicaciones_lval = (np.array(L_values) * np.array(valores_ft)).tolist()\n",
    "\n",
    "\n",
    "    #Se devuelve el Arreglo#\n",
    "    return L_values,valores_ft,multiplicaciones_lval\n"
   ]
  },
  {
   "cell_type": "code",
   "execution_count": 6,
   "metadata": {},
   "outputs": [],
   "source": [
    "numero:str = input()\n",
    "try: numero_evaluar:int|float = int(numero); \n",
    "except ValueError: numero_evaluar:int|float = float(numero)"
   ]
  },
  {
   "cell_type": "code",
   "execution_count": 7,
   "metadata": {},
   "outputs": [],
   "source": [
    "interpol, f_x, multiplication = interpolación(numero_evaluar, f_t, t)"
   ]
  },
  {
   "cell_type": "code",
   "execution_count": 8,
   "metadata": {},
   "outputs": [
    {
     "data": {
      "text/plain": [
       "51.25"
      ]
     },
     "execution_count": 8,
     "metadata": {},
     "output_type": "execute_result"
    }
   ],
   "source": [
    "multiplication\n",
    "sum(multiplication)"
   ]
  },
  {
   "cell_type": "code",
   "execution_count": 9,
   "metadata": {},
   "outputs": [],
   "source": [
    "numero2:str = input()\n",
    "try: numero_evaluar2:int|float = int(numero2); \n",
    "except ValueError: numero_evaluar2:int|float = float(numero2)"
   ]
  },
  {
   "cell_type": "code",
   "execution_count": 10,
   "metadata": {},
   "outputs": [],
   "source": [
    "interpol2, f_x2, multiplication2 = interpolación(numero_evaluar2, f_t, t)"
   ]
  },
  {
   "cell_type": "code",
   "execution_count": 11,
   "metadata": {},
   "outputs": [
    {
     "data": {
      "text/plain": [
       "30.0"
      ]
     },
     "execution_count": 11,
     "metadata": {},
     "output_type": "execute_result"
    }
   ],
   "source": [
    "sum(multiplication2)"
   ]
  },
  {
   "cell_type": "code",
   "execution_count": 12,
   "metadata": {},
   "outputs": [],
   "source": [
    "ft_values = f_t; ft_values.append(sum(multiplication))\n",
    "t_values = t; t_values.append(numero_evaluar)"
   ]
  },
  {
   "cell_type": "code",
   "execution_count": 13,
   "metadata": {},
   "outputs": [],
   "source": [
    "ft_values.sort(); t_values.sort()\n"
   ]
  },
  {
   "cell_type": "code",
   "execution_count": 15,
   "metadata": {},
   "outputs": [],
   "source": [
    "gf = pd.DataFrame({\"valores_t\":t_values,\"Valores_evaluados\":ft_values})\n",
    "gf[\"valores_t\"] = gf[\"valores_t\"].astype(float)\n",
    "gf[\"Valores_evaluados\"] = gf[\"Valores_evaluados\"].astype(float)"
   ]
  },
  {
   "cell_type": "code",
   "execution_count": 17,
   "metadata": {},
   "outputs": [],
   "source": [
    "import matplotlib.pyplot as plt"
   ]
  },
  {
   "cell_type": "code",
   "execution_count": 37,
   "metadata": {},
   "outputs": [
    {
     "data": {
      "image/png": "[encoded data removed]",
      "text/plain": [
       "<Figure size 640x480 with 1 Axes>"
      ]
     },
     "metadata": {},
     "output_type": "display_data"
    }
   ],
   "source": [
    "sb.lineplot(x = 'valores_t',y ='Valores_evaluados',data=gf, color = \"g\")\n",
    "plt.axhline(0, color=\"black\", linewidth=0.5)\n",
    "plt.axvline(0, color=\"black\", linewidth=0.5)\n",
    " \n",
    "\n",
    "valorf_1t = sum(multiplication)\n",
    "plt.scatter(numero_evaluar,valorf_1t, color = 'k', marker= 'x', s = 100, label= \"valor predecido\")\n",
    "plt.show()"
   ]
  }
 ],
 "metadata": {
  "kernelspec": {
   "display_name": "Python 3",
   "language": "python",
   "name": "python3"
  },
  "language_info": {
   "codemirror_mode": {
    "name": "ipython",
    "version": 3
   },
   "file_extension": ".py",
   "mimetype": "text/x-python",
   "name": "python",
   "nbconvert_exporter": "python",
   "pygments_lexer": "ipython3",
   "version": "3.13.1"
  }
 },
 "nbformat": 4,
 "nbformat_minor": 2
}
